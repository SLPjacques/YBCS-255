{
 "cells": [
  {
   "cell_type": "markdown",
   "metadata": {
    "colab_type": "text",
    "id": "r68yK1DyxImj"
   },
   "source": [
    "# Session 1: Probability and Statistics"
   ]
  },
  {
   "cell_type": "markdown",
   "metadata": {
    "colab_type": "text",
    "id": "t0w_m-7PQOlU"
   },
   "source": [
    "## Foreword\n",
    "Welcome to the *statistical Machine Learning (YCBS 255)* course. The main objective of This course is to introduce the statistical foundations of learning theory and to equip the students with a general understanding of a broad range of tools often used in machine learning and data analysis. As the title says, the principal focus will be on the statistical/mathematical aspects of learning. In the applied portion of the course, we will learn how to implement some of the discussed methods in Python. The present course is highly designed based on an interactive and self-motivated learning paradigm. There is a huge amount of details left to the learners as self-directed material. Our previous experience has proven that a successful accomplishment of the course is positively correlated with the students' dedication to the self-directed part of activities.\n",
    "\n",
    "## Get Prepared for the 1st Class\n",
    "Please review this material before the first class. As the course progresses we will provide you with an `ipython` notebook (like the present one) for each session. These documents contain various types of material, such as reading assignments, theoretical background, directions to external resources (like blogs, videos, and etc.), exercises, among others. Reviewing these notebooks together with other provided references may considerably boost your understanding, and consequetly, your succes in the present course. In some cases, following the suggested order of the reading assignments is important for avoiding possible prerequisite conflicts. However, feel free to change the order or skip an item based on your needs. \n",
    "\n",
    "Good luck,\n",
    "Instructional Team\n",
    "\n",
    "## Reading and Pre-Class Tasks\n",
    "Please note that the first two items are provided in PDF format on Athena.\n",
    "  1. *Course Outline*; \n",
    "  2. *List of Suggested Prerequisite Topics*; \n",
    "  3. Review fundamental concepts of **probability and statistics** according to the topics suggested in *List of Suggested Prerequisite Topics*. You may use any textbook or online material you prefer. Some useful resources are as follows:\n",
    "    + *Introductory Statistics* by Prem S. Mann (Some older editions are freely available online [PDF](https://www.academia.edu/31576708/Prem_S_Mann_Introductory_Statistics).)\n",
    "    + *Elementary Statistics* by Allan G. Bluman (A free version of the 8th edition is available online.)\n",
    "\n",
    "  4. From *An introduction to statistical learning*, read the following\n",
    "   sections \n",
    "    + “Preface” (optional); \n",
    "    + From “Introduction” (Chapter 1) read \n",
    "      * “An Overview of Statistical Learning” including “Wage Data”,\n",
    "        “Stock Market Data”, “Gene Expression Data”; \n",
    "      * “A Brief History of Statistical Learning”; \n",
    "      * “Notation and Simple Matrix Algebra”; and \n",
    "  5. From *Python Data Science Handbook*, read pages 1 to 7. (This part of the textbook provides information on IPython Shell and IPython Notebook. You will also become familiar with a few useful commands that facilitate your coding experience throughout the course.)  \n"
   ]
  },
  {
   "cell_type": "markdown",
   "metadata": {
    "colab_type": "text",
    "id": "ArMGIv7bBOyH"
   },
   "source": [
    "## Python Exercises: A Pregame Warmup "
   ]
  },
  {
   "cell_type": "markdown",
   "metadata": {
    "colab_type": "text",
    "id": "zDGpFU5RBOyN"
   },
   "source": [
    "By doing these exercices before the next class make sure that you feel confident with the following simple Python concepts. These questions review some basic notions, such as loop, conditional statement, dictionary, list comprehension, function, lambda function, recursion and sets. You may regard this part as a reminder, and obviously, connot replace the prerequisite knowlede of Python needed throughout this course. Finally, enjoy the next short, and useful video on Python programming by Raymond Hettinger: </br>\n",
    "[Transforming Code into Beautiful, Idiomatic Python](https://www.youtube.com/watch?v=OSGv2VnC0go) \n",
    " "
   ]
  },
  {
   "cell_type": "markdown",
   "metadata": {
    "colab_type": "text",
    "id": "m_npLId4BOyQ"
   },
   "source": [
    "## Exercises "
   ]
  },
  {
   "cell_type": "markdown",
   "metadata": {
    "colab_type": "text",
    "id": "KJRdr0btBOyS"
   },
   "source": [
    "1. Print the numbers from 1 to 100 with a loop."
   ]
  },
  {
   "cell_type": "code",
   "execution_count": 0,
   "metadata": {
    "colab": {},
    "colab_type": "code",
    "id": "tKGivyNuBOyU"
   },
   "outputs": [],
   "source": []
  },
  {
   "cell_type": "markdown",
   "metadata": {
    "colab_type": "text",
    "id": "G6rvrojABOyb"
   },
   "source": [
    "2. Print the even numbers from 1 to 100 with a loop and a conditional statement."
   ]
  },
  {
   "cell_type": "code",
   "execution_count": 0,
   "metadata": {
    "colab": {},
    "colab_type": "code",
    "id": "iDhJ1qZZBOyd"
   },
   "outputs": [],
   "source": []
  },
  {
   "cell_type": "markdown",
   "metadata": {
    "colab_type": "text",
    "id": "2Wfi3hJOBOyj"
   },
   "source": [
    "3. Create a dictionnary with the following (key, value) pairs: ('Anthony': 1), ('Bella': 2), ('Camilla': 3) "
   ]
  },
  {
   "cell_type": "code",
   "execution_count": 0,
   "metadata": {
    "colab": {},
    "colab_type": "code",
    "id": "igZNQaRYBOyk"
   },
   "outputs": [],
   "source": []
  },
  {
   "cell_type": "markdown",
   "metadata": {
    "colab_type": "text",
    "id": "ukYC0W3wBOyq"
   },
   "source": [
    "4. With list comprehension, create an array with the integers from 1 to 100."
   ]
  },
  {
   "cell_type": "code",
   "execution_count": 0,
   "metadata": {
    "colab": {},
    "colab_type": "code",
    "id": "N4VzIlnQBOys"
   },
   "outputs": [],
   "source": []
  },
  {
   "cell_type": "markdown",
   "metadata": {
    "colab_type": "text",
    "id": "yhMn_-l1BOyw"
   },
   "source": [
    "5. With list comprehension, create an array with the integers from 1 to 100."
   ]
  },
  {
   "cell_type": "code",
   "execution_count": 0,
   "metadata": {
    "colab": {},
    "colab_type": "code",
    "id": "-Dr5weFgBOyz"
   },
   "outputs": [],
   "source": []
  },
  {
   "cell_type": "markdown",
   "metadata": {
    "colab_type": "text",
    "id": "O5d3_7MFBOy6"
   },
   "source": [
    "6. Create a function that returns the square of a number passed as input."
   ]
  },
  {
   "cell_type": "code",
   "execution_count": 0,
   "metadata": {
    "colab": {},
    "colab_type": "code",
    "id": "INeSSGJuBOy7"
   },
   "outputs": [],
   "source": []
  },
  {
   "cell_type": "markdown",
   "metadata": {
    "colab_type": "text",
    "id": "I_oBpccEBOzB"
   },
   "source": [
    "7. Do the previous question by using lambda function instead of a regular one."
   ]
  },
  {
   "cell_type": "code",
   "execution_count": 0,
   "metadata": {
    "colab": {},
    "colab_type": "code",
    "id": "wsHl5vzJBOzC"
   },
   "outputs": [],
   "source": []
  },
  {
   "cell_type": "markdown",
   "metadata": {
    "colab_type": "text",
    "id": "yGVqvhVyBOzG"
   },
   "source": [
    "8. Write the factorial function by using recursion."
   ]
  },
  {
   "cell_type": "code",
   "execution_count": 0,
   "metadata": {
    "colab": {},
    "colab_type": "code",
    "id": "OyudFRMrBOzI"
   },
   "outputs": [],
   "source": []
  },
  {
   "cell_type": "markdown",
   "metadata": {
    "colab_type": "text",
    "id": "wJajriOiBOzN"
   },
   "source": [
    "9. Write a function that returns the unique elements of an array."
   ]
  },
  {
   "cell_type": "code",
   "execution_count": 0,
   "metadata": {
    "colab": {},
    "colab_type": "code",
    "id": "gA8Sg6r7BOzO"
   },
   "outputs": [],
   "source": []
  },
  {
   "cell_type": "markdown",
   "metadata": {
    "colab_type": "text",
    "id": "UwJyAQyyFY-w"
   },
   "source": [
    "## Important Distributions \n",
    "The following distributions are frequently encountered in practice and are considered as prerequisite knowledge for our course. You must become familiar with their properties and possible applications including their probability mass or density functions, distribution functions, mathematical expectation, variance, as well as how to compute them manually or in Python. \n",
    "\n",
    "* **Discrete Distributions**\n",
    "  1. Degenerate\n",
    "  2. Uniform \n",
    "  3. Bernoulli\n",
    "  4. Binomial \n",
    "  5. Multinomial\n",
    "  6. Geometric\n",
    "  7. Negative Binomial\n",
    "  8. Hypergeometric\n",
    "  9. Poisson \n",
    "\n",
    "* **Absolutely Continuous**\n",
    "  1. Uniform\n",
    "  2. Gaussian\n",
    "  3. Chi-Squared \n",
    "  4. Exponential\n",
    "  5. Gamma\n",
    "  6. Beta   "
   ]
  },
  {
   "cell_type": "markdown",
   "metadata": {
    "colab_type": "text",
    "id": "jmbdBxOsBOzT"
   },
   "source": [
    "## Code for Class"
   ]
  },
  {
   "cell_type": "code",
   "execution_count": 3,
   "metadata": {
    "colab": {},
    "colab_type": "code",
    "id": "Nt5mTdvdBOzU"
   },
   "outputs": [],
   "source": [
    "# Import relevant packages.\n",
    "import numpy as np\n",
    "import matplotlib.pyplot as plt\n",
    "import pandas as pd\n",
    "import os"
   ]
  },
  {
   "cell_type": "markdown",
   "metadata": {
    "colab_type": "text",
    "id": "DL9HrjJ0BOza"
   },
   "source": [
    "### a) Probability and Statistics\n",
    "\n",
    "Numpy package has a lot of interesting functionalities. Among the basic functionalities, one can compute the mean, the variance, the standard deviation, etc. To get familiar with these notions, it is a good exercises to code them from scratch. It also us to verify that we understand the theory behind the concepts and that we are agile with the basic objects of python."
   ]
  },
  {
   "cell_type": "code",
   "execution_count": 0,
   "metadata": {
    "colab": {},
    "colab_type": "code",
    "id": "v402PvSctwQ0"
   },
   "outputs": [],
   "source": [
    "# The following two lines allow printing multiple outcomes in one cell\n",
    "from IPython.core.interactiveshell import InteractiveShell\n",
    "InteractiveShell.ast_node_interactivity = \"all\""
   ]
  },
  {
   "cell_type": "markdown",
   "metadata": {},
   "source": [
    "1. Define a function that compute the range of an array."
   ]
  },
  {
   "cell_type": "code",
   "execution_count": 0,
   "metadata": {
    "colab": {},
    "colab_type": "code",
    "id": "en_lEEYeBOzb"
   },
   "outputs": [],
   "source": [
    "def data_range(x):\n",
    "    \"Returns the range of the array\"\n",
    "    return max(x) - min(x)"
   ]
  },
  {
   "cell_type": "markdown",
   "metadata": {},
   "source": [
    "2. Define a function that returns the mathematical expectation based on the support of variable $x$ (given as an array) and its probabilities (given as an array)."
   ]
  },
  {
   "cell_type": "code",
   "execution_count": 0,
   "metadata": {
    "colab": {},
    "colab_type": "code",
    "id": "WLFQQ_lPBOzf"
   },
   "outputs": [],
   "source": [
    "def expectation(x, px):\n",
    "    \"Computes the expectation of a random variable with its probabilities\"\n",
    "    return sum([x*px for x,px in zip(x,px)])"
   ]
  },
  {
   "cell_type": "markdown",
   "metadata": {},
   "source": [
    "3. Define a function that returns a new array of length $n$ such that its elements corresponds to the elements of an array translated by its mean (i.e. $x_{i}^{\\star}\\leftarrow x_{i}-\\bar{x}\\quad\\forall i\\in\\{1,2,\\dots,n\\}$)"
   ]
  },
  {
   "cell_type": "code",
   "execution_count": 0,
   "metadata": {
    "colab": {},
    "colab_type": "code",
    "id": "z9pWCDP_BOzk"
   },
   "outputs": [],
   "source": [
    "def de_mean(x):\n",
    "    \"Translate each element by subtracting its mean\"\n",
    "    x_bar = sum(x)/len(x)\n",
    "    return [x_i - x_bar for x_i in x]"
   ]
  },
  {
   "cell_type": "markdown",
   "metadata": {},
   "source": [
    "4. Define a function that returns the mode of an array."
   ]
  },
  {
   "cell_type": "code",
   "execution_count": 0,
   "metadata": {
    "colab": {},
    "colab_type": "code",
    "id": "hS0Y0ArZBOzo"
   },
   "outputs": [],
   "source": [
    "def mode(x):\n",
    "    \"Returns a list (because there might be more than one mode)\"\n",
    "    counts = Counter(x)\n",
    "    max_count = max(counts.values())\n",
    "    return [x_i for x_i, count in counts.iteritems() if count == max_count]"
   ]
  },
  {
   "cell_type": "markdown",
   "metadata": {},
   "source": [
    "5. Define a function that calculates the sum of squares $\\sum_{i=1}^{n}(x_{i}-\\bar{x})^{2}$ where $\\mathbf{x}\\in\\mathbb{R}^{n}$."
   ]
  },
  {
   "cell_type": "code",
   "execution_count": 0,
   "metadata": {
    "colab": {},
    "colab_type": "code",
    "id": "4tOLf-wpBOzt"
   },
   "outputs": [],
   "source": [
    "def sum_of_squares(x):\n",
    "    \"Square elements and sum them\"\n",
    "    translated_elements = de_mean(x)\n",
    "    squared_elements = [translated_element**2 for translated_element in translated_elements]\n",
    "    return sum(squared_elements)"
   ]
  },
  {
   "cell_type": "markdown",
   "metadata": {},
   "source": [
    "6. Define a function that estimates the population variance."
   ]
  },
  {
   "cell_type": "code",
   "execution_count": null,
   "metadata": {},
   "outputs": [],
   "source": [
    "def biased_variance(x):\n",
    "    \"This function assumes x has at least two elements\"\n",
    "    n = len(x)\n",
    "    deviations = de_mean(x)\n",
    "    return sum_of_squares(deviations) / (n - 1)"
   ]
  },
  {
   "cell_type": "markdown",
   "metadata": {},
   "source": [
    "6. Estimating the variance of a sample with the population variance formula leads to a biased estimator. Apply Bessel's correction to obtain an unbiased estimator. "
   ]
  },
  {
   "cell_type": "code",
   "execution_count": 1,
   "metadata": {
    "colab": {
     "base_uri": "https://localhost:8080/",
     "height": 34
    },
    "colab_type": "code",
    "executionInfo": {
     "elapsed": 860,
     "status": "ok",
     "timestamp": 1573349355968,
     "user": {
      "displayName": "Damoon Robatian",
      "photoUrl": "https://lh3.googleusercontent.com/a-/AAuE7mAAclakc71uTm45mCHCp2sOI_fAZGq6cF5pCrEKuA=s64",
      "userId": "07122023926124466582"
     },
     "user_tz": 300
    },
    "id": "BTZNnmMsBOzy",
    "outputId": "57075bd1-5750-4c5b-896e-a9278c64f675"
   },
   "outputs": [],
   "source": [
    "def unbiased_variance(x):\n",
    "    \"This function assumes x has at least two elements\"\n",
    "    n = len(x)\n",
    "    biased_variance_ = biased_variance(x)\n",
    "    return n*biased_variance_ / (n - 1)"
   ]
  },
  {
   "cell_type": "markdown",
   "metadata": {},
   "source": [
    "7. Consider a set of paired realisations of two random variables $\\{(x_{i},y_{i}):i=1,2,\\dots,n\\}$. Compute the sample covariance estimation."
   ]
  },
  {
   "cell_type": "code",
   "execution_count": null,
   "metadata": {},
   "outputs": [],
   "source": [
    "def dot(x,y):\n",
    "    return sum([x_i*y_i for x_i,y_i in zip(x,y)])\n",
    "\n",
    "def covariance(x, y):\n",
    "    n = len(x)\n",
    "    return dot(de_mean(x), de_mean(y)) / (n - 1)\n",
    "\n",
    "covariance((1,2,3), (1,2,3))"
   ]
  },
  {
   "cell_type": "markdown",
   "metadata": {},
   "source": [
    "8. Code a coin toss function."
   ]
  },
  {
   "cell_type": "code",
   "execution_count": 0,
   "metadata": {
    "colab": {},
    "colab_type": "code",
    "id": "iC1OWpM2BOz2"
   },
   "outputs": [],
   "source": [
    "import random\n",
    "\n",
    "def coin_toss():\n",
    "    return random.choice([\"head\", \"tail\"])"
   ]
  },
  {
   "cell_type": "markdown",
   "metadata": {},
   "source": [
    "9. Create the density function of the uniform distribution $U[0,1]$."
   ]
  },
  {
   "cell_type": "code",
   "execution_count": 0,
   "metadata": {
    "colab": {},
    "colab_type": "code",
    "id": "kYaDIHn_BO0C"
   },
   "outputs": [],
   "source": [
    "def uniform_pdf(x):\n",
    "    return 1 if x >= 0 and x < 1 else 0"
   ]
  },
  {
   "cell_type": "markdown",
   "metadata": {},
   "source": [
    "10. Create the cumulative distribution function of the uniform distribution $U[0,1]$."
   ]
  },
  {
   "cell_type": "code",
   "execution_count": 0,
   "metadata": {
    "colab": {},
    "colab_type": "code",
    "id": "uMdhZkrJBO0I"
   },
   "outputs": [],
   "source": [
    "# Code the cumulative distribution function of a uniform distribution [0,1]\n",
    "def uniform_cdf(x):\n",
    "    \"Returns the probability that a uniform random variable is <= x\"\n",
    "    if x < 0: \n",
    "        return 0 \n",
    "    elif x < 1: \n",
    "        return x \n",
    "    else:\n",
    "        return 1 "
   ]
  },
  {
   "cell_type": "code",
   "execution_count": 0,
   "metadata": {
    "colab": {
     "base_uri": "https://localhost:8080/",
     "height": 265
    },
    "colab_type": "code",
    "executionInfo": {
     "elapsed": 897,
     "status": "ok",
     "timestamp": 1573350622916,
     "user": {
      "displayName": "Damoon Robatian",
      "photoUrl": "https://lh3.googleusercontent.com/a-/AAuE7mAAclakc71uTm45mCHCp2sOI_fAZGq6cF5pCrEKuA=s64",
      "userId": "07122023926124466582"
     },
     "user_tz": 300
    },
    "id": "48_JTU6XBO0O",
    "outputId": "5eddced1-ad8a-472f-e52f-a709d85d81cd"
   },
   "outputs": [
    {
     "data": {
      "image/png": "[encoded data removed]",
      "text/plain": [
       "<Figure size 432x288 with 1 Axes>"
      ]
     },
     "metadata": {
      "tags": []
     },
     "output_type": "display_data"
    }
   ],
   "source": [
    "# Plot the cdf described in the previous block\n",
    "xs = [x/10 for x in range(-10,21,1)]\n",
    "ys = [uniform_cdf(x) for x in xs]\n",
    "plot = plt.plot(xs, ys)\n",
    "#plt.show()"
   ]
  },
  {
   "cell_type": "markdown",
   "metadata": {
    "colab_type": "text",
    "id": "72ioud4xBO0g"
   },
   "source": [
    "### b) Synthetic Data Generation\n",
    "\n",
    "The following exercise will teach you to combine different packages (numpy, matplotlib and pandas) in a couple of simple steps. In summary, you have to generate data from a normal distribution, plot it and finally export it into csv format."
   ]
  },
  {
   "cell_type": "markdown",
   "metadata": {},
   "source": [
    "1. With $\\text{seed}=1$, generate $1000$ observations such that $x_{i}\\sim\\mathcal{N}(5,1)\\quad\\forall i\\in\\{1,2,\\dots,1000\\}$."
   ]
  },
  {
   "cell_type": "code",
   "execution_count": 4,
   "metadata": {
    "colab": {},
    "colab_type": "code",
    "id": "7p8jfbipBO0h"
   },
   "outputs": [],
   "source": [
    "np.random.seed(1)\n",
    "mu, sigma = 5, 1 # mean and standard deviation\n",
    "s = np.random.normal(mu, sigma, 1000)"
   ]
  },
  {
   "cell_type": "markdown",
   "metadata": {},
   "source": [
    "2. Plot the histogram of the previous observations with matplotlib's function hist."
   ]
  },
  {
   "cell_type": "code",
   "execution_count": 0,
   "metadata": {
    "colab": {},
    "colab_type": "code",
    "id": "rqTP-T0DBO0l",
    "outputId": "e44f890a-79a0-42d4-825f-99705ae173e7"
   },
   "outputs": [
    {
     "data": {
      "image/png": "[encoded data removed]",
      "text/plain": [
       "<Figure size 432x288 with 1 Axes>"
      ]
     },
     "metadata": {
      "needs_background": "light",
      "tags": []
     },
     "output_type": "display_data"
    }
   ],
   "source": [
    "count, bins, ignored = plt.hist(s, 30, density=True)"
   ]
  },
  {
   "cell_type": "markdown",
   "metadata": {},
   "source": [
    "3. Plot the normal curve over the histogram"
   ]
  },
  {
   "cell_type": "code",
   "execution_count": 0,
   "metadata": {
    "colab": {},
    "colab_type": "code",
    "id": "GSNfSlJ7BO0p",
    "outputId": "bda0c690-596b-4892-adad-02d1702f8865"
   },
   "outputs": [
    {
     "data": {
      "image/png": "[encoded data removed]",
      "text/plain": [
       "<Figure size 432x288 with 1 Axes>"
      ]
     },
     "metadata": {
      "needs_background": "light",
      "tags": []
     },
     "output_type": "display_data"
    }
   ],
   "source": [
    "count, bins, ignored = plt.hist(s, 30, density=True)\n",
    "plt.plot(bins, 1/(sigma * np.sqrt(2 * np.pi)) * np.exp( - (bins - mu)**2 / (2 * sigma**2) ),linewidth=2, color='r')\n",
    "plt.show()"
   ]
  },
  {
   "cell_type": "markdown",
   "metadata": {},
   "source": [
    "4. Create an array s_squared such that $s_{i}=x_{i}^{2}\\quad\\forall i\\in\\{1,2,\\dots,n\\}$ and an array of noise $\\boldsymbol{\\epsilon}$ such that $\\epsilon_{i}\\sim\\mathcal{N}(0,0.2^{2})$."
   ]
  },
  {
   "cell_type": "code",
   "execution_count": 0,
   "metadata": {
    "colab": {},
    "colab_type": "code",
    "id": "ruFoUnMCBO0v"
   },
   "outputs": [],
   "source": [
    "s_squared = np.array([normal_variable**2 for normal_variable in s])\n",
    "noises = np.random.normal(0, 0.2, 1000)"
   ]
  },
  {
   "cell_type": "markdown",
   "metadata": {},
   "source": [
    "5. Create an array called response_variable composed of elements $y_{i}=2s_{i}+3s_{i}^{2}+\\epsilon_{i}\\quad\\forall i\\in\\{1,2,\\dots,n\\}$."
   ]
  },
  {
   "cell_type": "code",
   "execution_count": 5,
   "metadata": {
    "colab": {},
    "colab_type": "code",
    "id": "cpY4dMcbBO0z"
   },
   "outputs": [
    {
     "ename": "NameError",
     "evalue": "name 's_squared' is not defined",
     "output_type": "error",
     "traceback": [
      "\u001b[1;31m---------------------------------------------------------------------------\u001b[0m",
      "\u001b[1;31mNameError\u001b[0m                                 Traceback (most recent call last)",
      "\u001b[1;32m<ipython-input-5-04b3dbf8c366>\u001b[0m in \u001b[0;36m<module>\u001b[1;34m\u001b[0m\n\u001b[1;32m----> 1\u001b[1;33m \u001b[0mresponse_variable\u001b[0m \u001b[1;33m=\u001b[0m \u001b[1;36m2\u001b[0m\u001b[1;33m*\u001b[0m\u001b[0ms\u001b[0m \u001b[1;33m+\u001b[0m \u001b[1;36m3\u001b[0m\u001b[1;33m*\u001b[0m\u001b[0ms_squared\u001b[0m \u001b[1;33m+\u001b[0m \u001b[0mnoises\u001b[0m\u001b[1;33m\u001b[0m\u001b[1;33m\u001b[0m\u001b[0m\n\u001b[0m",
      "\u001b[1;31mNameError\u001b[0m: name 's_squared' is not defined"
     ]
    }
   ],
   "source": [
    "response_variable = 2*s + 3*s_squared + noises"
   ]
  },
  {
   "cell_type": "markdown",
   "metadata": {},
   "source": [
    "6. Create a panda dataframe with the variables s, s_squared and the response_variable and change the columns name for \n",
    "first variable, second variable and response variable."
   ]
  },
  {
   "cell_type": "code",
   "execution_count": 0,
   "metadata": {
    "colab": {},
    "colab_type": "code",
    "id": "oV4kk5VIBO07"
   },
   "outputs": [],
   "source": [
    " d_ = {'first variable':s, 'second variable':s_squared, 'response variable':response_variable} \n",
    "df = pd.DataFrame(data=d_)"
   ]
  },
  {
   "cell_type": "markdown",
   "metadata": {
    "colab": {},
    "colab_type": "code",
    "id": "5SWD8XXrBO1A"
   },
   "source": [
    "7. Export your pandas dataframe to your current directory and name it synthetic_data_lr."
   ]
  },
  {
   "cell_type": "code",
   "execution_count": null,
   "metadata": {},
   "outputs": [],
   "source": [
    "home_path = os.getcwd() \n",
    "file_name = 'synthetic_data_lr.csv'\n",
    "df.to_csv(home_path + r'\\\\' + file_name, index=False, header=True)"
   ]
  },
  {
   "cell_type": "markdown",
   "metadata": {
    "colab_type": "text",
    "id": "yqbjQ_9rBO1E"
   },
   "source": [
    "### c) Data Visualization"
   ]
  },
  {
   "cell_type": "markdown",
   "metadata": {},
   "source": [
    "1. Upload the tips dataset from seaborn."
   ]
  },
  {
   "cell_type": "code",
   "execution_count": 0,
   "metadata": {
    "colab": {},
    "colab_type": "code",
    "id": "5FXtzf0cBO1G"
   },
   "outputs": [],
   "source": [
    "# Inspired from: https://github.com/knathanieltucker/seaborn-weird-parts\n",
    "import seaborn as sns\n",
    "sns.set(font_scale=1)\n",
    "tips = sns.load_dataset(\"tips\")"
   ]
  },
  {
   "cell_type": "markdown",
   "metadata": {},
   "source": [
    "2. Print the five first rows of the tips dataset."
   ]
  },
  {
   "cell_type": "code",
   "execution_count": 0,
   "metadata": {
    "colab": {},
    "colab_type": "code",
    "id": "n3sw7eTSBO1K",
    "outputId": "9c1360e9-ced3-4094-b36f-e067c2cf2b41"
   },
   "outputs": [
    {
     "data": {
      "text/html": [
       "<div>\n",
       "<style scoped>\n",
       "    .dataframe tbody tr th:only-of-type {\n",
       "        vertical-align: middle;\n",
       "    }\n",
       "\n",
       "    .dataframe tbody tr th {\n",
       "        vertical-align: top;\n",
       "    }\n",
       "\n",
       "    .dataframe thead th {\n",
       "        text-align: right;\n",
       "    }\n",
       "</style>\n",
       "<table border=\"1\" class=\"dataframe\">\n",
       "  <thead>\n",
       "    <tr style=\"text-align: right;\">\n",
       "      <th></th>\n",
       "      <th>total_bill</th>\n",
       "      <th>tip</th>\n",
       "      <th>sex</th>\n",
       "      <th>smoker</th>\n",
       "      <th>day</th>\n",
       "      <th>time</th>\n",
       "      <th>size</th>\n",
       "    </tr>\n",
       "  </thead>\n",
       "  <tbody>\n",
       "    <tr>\n",
       "      <th>0</th>\n",
       "      <td>16.99</td>\n",
       "      <td>1.01</td>\n",
       "      <td>Female</td>\n",
       "      <td>No</td>\n",
       "      <td>Sun</td>\n",
       "      <td>Dinner</td>\n",
       "      <td>2</td>\n",
       "    </tr>\n",
       "    <tr>\n",
       "      <th>1</th>\n",
       "      <td>10.34</td>\n",
       "      <td>1.66</td>\n",
       "      <td>Male</td>\n",
       "      <td>No</td>\n",
       "      <td>Sun</td>\n",
       "      <td>Dinner</td>\n",
       "      <td>3</td>\n",
       "    </tr>\n",
       "    <tr>\n",
       "      <th>2</th>\n",
       "      <td>21.01</td>\n",
       "      <td>3.50</td>\n",
       "      <td>Male</td>\n",
       "      <td>No</td>\n",
       "      <td>Sun</td>\n",
       "      <td>Dinner</td>\n",
       "      <td>3</td>\n",
       "    </tr>\n",
       "    <tr>\n",
       "      <th>3</th>\n",
       "      <td>23.68</td>\n",
       "      <td>3.31</td>\n",
       "      <td>Male</td>\n",
       "      <td>No</td>\n",
       "      <td>Sun</td>\n",
       "      <td>Dinner</td>\n",
       "      <td>2</td>\n",
       "    </tr>\n",
       "    <tr>\n",
       "      <th>4</th>\n",
       "      <td>24.59</td>\n",
       "      <td>3.61</td>\n",
       "      <td>Female</td>\n",
       "      <td>No</td>\n",
       "      <td>Sun</td>\n",
       "      <td>Dinner</td>\n",
       "      <td>4</td>\n",
       "    </tr>\n",
       "  </tbody>\n",
       "</table>\n",
       "</div>"
      ],
      "text/plain": [
       "   total_bill   tip     sex smoker  day    time  size\n",
       "0       16.99  1.01  Female     No  Sun  Dinner     2\n",
       "1       10.34  1.66    Male     No  Sun  Dinner     3\n",
       "2       21.01  3.50    Male     No  Sun  Dinner     3\n",
       "3       23.68  3.31    Male     No  Sun  Dinner     2\n",
       "4       24.59  3.61  Female     No  Sun  Dinner     4"
      ]
     },
     "execution_count": 83,
     "metadata": {
      "tags": []
     },
     "output_type": "execute_result"
    }
   ],
   "source": [
    "tips.head()"
   ]
  },
  {
   "cell_type": "markdown",
   "metadata": {},
   "source": [
    "3. Print the last 5 rows of the tips dataframe"
   ]
  },
  {
   "cell_type": "code",
   "execution_count": 0,
   "metadata": {
    "colab": {},
    "colab_type": "code",
    "id": "qvu8nSGBBO1P",
    "outputId": "7d397761-3ef2-4fcb-8cea-20181760aa8c"
   },
   "outputs": [
    {
     "data": {
      "text/html": [
       "<div>\n",
       "<style scoped>\n",
       "    .dataframe tbody tr th:only-of-type {\n",
       "        vertical-align: middle;\n",
       "    }\n",
       "\n",
       "    .dataframe tbody tr th {\n",
       "        vertical-align: top;\n",
       "    }\n",
       "\n",
       "    .dataframe thead th {\n",
       "        text-align: right;\n",
       "    }\n",
       "</style>\n",
       "<table border=\"1\" class=\"dataframe\">\n",
       "  <thead>\n",
       "    <tr style=\"text-align: right;\">\n",
       "      <th></th>\n",
       "      <th>total_bill</th>\n",
       "      <th>tip</th>\n",
       "      <th>sex</th>\n",
       "      <th>smoker</th>\n",
       "      <th>day</th>\n",
       "      <th>time</th>\n",
       "      <th>size</th>\n",
       "    </tr>\n",
       "  </thead>\n",
       "  <tbody>\n",
       "    <tr>\n",
       "      <th>239</th>\n",
       "      <td>29.03</td>\n",
       "      <td>5.92</td>\n",
       "      <td>Male</td>\n",
       "      <td>No</td>\n",
       "      <td>Sat</td>\n",
       "      <td>Dinner</td>\n",
       "      <td>3</td>\n",
       "    </tr>\n",
       "    <tr>\n",
       "      <th>240</th>\n",
       "      <td>27.18</td>\n",
       "      <td>2.00</td>\n",
       "      <td>Female</td>\n",
       "      <td>Yes</td>\n",
       "      <td>Sat</td>\n",
       "      <td>Dinner</td>\n",
       "      <td>2</td>\n",
       "    </tr>\n",
       "    <tr>\n",
       "      <th>241</th>\n",
       "      <td>22.67</td>\n",
       "      <td>2.00</td>\n",
       "      <td>Male</td>\n",
       "      <td>Yes</td>\n",
       "      <td>Sat</td>\n",
       "      <td>Dinner</td>\n",
       "      <td>2</td>\n",
       "    </tr>\n",
       "    <tr>\n",
       "      <th>242</th>\n",
       "      <td>17.82</td>\n",
       "      <td>1.75</td>\n",
       "      <td>Male</td>\n",
       "      <td>No</td>\n",
       "      <td>Sat</td>\n",
       "      <td>Dinner</td>\n",
       "      <td>2</td>\n",
       "    </tr>\n",
       "    <tr>\n",
       "      <th>243</th>\n",
       "      <td>18.78</td>\n",
       "      <td>3.00</td>\n",
       "      <td>Female</td>\n",
       "      <td>No</td>\n",
       "      <td>Thur</td>\n",
       "      <td>Dinner</td>\n",
       "      <td>2</td>\n",
       "    </tr>\n",
       "  </tbody>\n",
       "</table>\n",
       "</div>"
      ],
      "text/plain": [
       "     total_bill   tip     sex smoker   day    time  size\n",
       "239       29.03  5.92    Male     No   Sat  Dinner     3\n",
       "240       27.18  2.00  Female    Yes   Sat  Dinner     2\n",
       "241       22.67  2.00    Male    Yes   Sat  Dinner     2\n",
       "242       17.82  1.75    Male     No   Sat  Dinner     2\n",
       "243       18.78  3.00  Female     No  Thur  Dinner     2"
      ]
     },
     "execution_count": 84,
     "metadata": {
      "tags": []
     },
     "output_type": "execute_result"
    }
   ],
   "source": [
    "tips.tail()"
   ]
  },
  {
   "cell_type": "markdown",
   "metadata": {},
   "source": [
    "4. Draw a boxplot for the total bill with time on the x-axis."
   ]
  },
  {
   "cell_type": "code",
   "execution_count": 0,
   "metadata": {
    "colab": {},
    "colab_type": "code",
    "id": "ccCcQWZgBO1T",
    "outputId": "1f92f51f-ed9b-4868-b7be-21be08138823"
   },
   "outputs": [
    {
     "data": {
      "image/png": "[encoded data removed]",
      "text/plain": [
       "<Figure size 432x288 with 1 Axes>"
      ]
     },
     "metadata": {
      "tags": []
     },
     "output_type": "display_data"
    }
   ],
   "source": [
    "ax = sns.boxplot(x=\"time\", y=\"tip\", data=tips)"
   ]
  },
  {
   "cell_type": "markdown",
   "metadata": {},
   "source": [
    "5. Pair the box in order to comprare the tip for smoker vs non-smoker"
   ]
  },
  {
   "cell_type": "code",
   "execution_count": 0,
   "metadata": {
    "colab": {},
    "colab_type": "code",
    "id": "7ai7Qe5mBO1a",
    "outputId": "b3b3f08f-e85f-4f5f-887e-2a5fb820cb19"
   },
   "outputs": [
    {
     "data": {
      "image/png": "[encoded data removed]",
      "text/plain": [
       "<Figure size 432x288 with 1 Axes>"
      ]
     },
     "metadata": {
      "tags": []
     },
     "output_type": "display_data"
    }
   ],
   "source": [
    "ax = sns.boxplot(x=\"time\", y=\"tip\", hue=\"smoker\", data=tips)"
   ]
  },
  {
   "cell_type": "markdown",
   "metadata": {},
   "source": [
    "6. Display two plots side by side. The first one should be a scatterplot with tip on the x-axis and Total bill on y-axis. The second one should be a boxplot with day of the week on the x-axis and total bill on the y-axis. Save the combined figure as a png file with dpi quality of 500."
   ]
  },
  {
   "cell_type": "code",
   "execution_count": 0,
   "metadata": {
    "colab": {},
    "colab_type": "code",
    "id": "mEPxvaYZBO1g",
    "outputId": "f082c7c4-47fe-42cd-b5d5-2f0e3bbfd565"
   },
   "outputs": [
    {
     "data": {
      "image/png": "[encoded data removed]",
      "text/plain": [
       "<Figure size 1080x504 with 2 Axes>"
      ]
     },
     "metadata": {
      "tags": []
     },
     "output_type": "display_data"
    }
   ],
   "source": [
    "fig, ax = plt.subplots(1,2, figsize=(15,7))\n",
    "ax[0].scatter(tips['tip'], tips['total_bill'], color=sns.color_palette('Blues')[-1])\n",
    "ax[0].set(title='Scatter plot of bills and tips', ylabel='Total bill', xlabel='Tip')\n",
    "sns.boxplot(x='day', y='total_bill', data=tips, palette='Blues', ax=ax[1])\n",
    "ax[1].set(title='Total bill', ylabel='Total bill', xlabel='Day of the week')\n",
    "plt.show()\n",
    "fig.savefig('combined_plots.png', format='png', dpi=500)"
   ]
  },
  {
   "cell_type": "markdown",
   "metadata": {},
   "source": [
    "7. Display a bar plot (with error bars) with mean total bill on the y-axis and the day of the week on the x-axis. For each modality of day of week, there should be two bars (one for male and one for female)."
   ]
  },
  {
   "cell_type": "code",
   "execution_count": 0,
   "metadata": {
    "colab": {},
    "colab_type": "code",
    "id": "fVnnQMdNBO1k",
    "outputId": "2d6778d1-4b62-4195-8a9a-1c012ac8ce77"
   },
   "outputs": [
    {
     "data": {
      "image/png": "[encoded data removed]",
      "text/plain": [
       "<Figure size 864x504 with 1 Axes>"
      ]
     },
     "metadata": {
      "tags": []
     },
     "output_type": "display_data"
    }
   ],
   "source": [
    "fig, ax = plt.subplots(1,1, figsize=(12,7))\n",
    "ax = sns.barplot(x=\"day\", y=\"total_bill\", hue=\"sex\", data=tips)\n",
    "ax.set(xlabel='Day of Week', ylabel='Mean Total bill')\n",
    "fig.savefig(\"mean_total_bill.pdf\", bbox_inches='tight')"
   ]
  },
  {
   "cell_type": "markdown",
   "metadata": {
    "colab_type": "text",
    "id": "V1Bwv3WzBO1o"
   },
   "source": []
  },
  {
   "cell_type": "code",
   "execution_count": 0,
   "metadata": {
    "colab": {},
    "colab_type": "code",
    "id": "878WROZmBO1p"
   },
   "outputs": [],
   "source": []
  }
 ],
 "metadata": {
  "colab": {
   "collapsed_sections": [],
   "name": "Class_Notebook_1_v2.ipynb",
   "provenance": []
  },
  "kernelspec": {
   "display_name": "Python 3",
   "language": "python",
   "name": "python3"
  },
  "language_info": {
   "codemirror_mode": {
    "name": "ipython",
    "version": 3
   },
   "file_extension": ".py",
   "mimetype": "text/x-python",
   "name": "python",
   "nbconvert_exporter": "python",
   "pygments_lexer": "ipython3",
   "version": "3.7.1"
  }
 },
 "nbformat": 4,
 "nbformat_minor": 1
}
